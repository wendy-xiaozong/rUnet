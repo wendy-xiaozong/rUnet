{
 "metadata": {
  "language_info": {
   "codemirror_mode": {
    "name": "ipython",
    "version": 3
   },
   "file_extension": ".py",
   "mimetype": "text/x-python",
   "name": "python",
   "nbconvert_exporter": "python",
   "pygments_lexer": "ipython3",
   "version": "3.6.9-final"
  },
  "orig_nbformat": 2,
  "kernelspec": {
   "name": "python3",
   "display_name": "Python 3.6.9 64-bit",
   "metadata": {
    "interpreter": {
     "hash": "31f2aee4e71d21fbe5cf8b01ff0e069b9275f58929596ceb00d14d90e3e16cd6"
    }
   }
  }
 },
 "nbformat": 4,
 "nbformat_minor": 2,
 "cells": [
  {
   "cell_type": "code",
   "execution_count": 83,
   "metadata": {},
   "outputs": [],
   "source": [
    "import pandas as pd\n",
    "import numpy as np\n",
    "from collections import Counter"
   ]
  },
  {
   "cell_type": "code",
   "execution_count": 65,
   "metadata": {},
   "outputs": [
    {
     "output_type": "execute_result",
     "data": {
      "text/plain": [
       "  Image Data ID     Subject Group Sex  Age  Visit Modality  \\\n",
       "0        I60450  002_S_0619    AD   M   78      3      MRI   \n",
       "1       I120964  002_S_0619    AD   M   80      6      MRI   \n",
       "2        I48617  002_S_0619    AD   M   78      1      MRI   \n",
       "3        I48758  002_S_0619    AD   M   78      1      MRI   \n",
       "4        I60453  002_S_0619    AD   M   78      3      MRI   \n",
       "\n",
       "                                Description       Type    Acq Date Format  \\\n",
       "0                         MPR; GradWarp; N3  Processed  12/13/2006  NiFTI   \n",
       "1  MPR; GradWarp; B1 Correction; N3; Scaled  Processed   8/13/2008  NiFTI   \n",
       "2               MPR-R; GradWarp; N3; Scaled  Processed   6/01/2006  NiFTI   \n",
       "3                           MPR-R; GradWarp  Processed   6/01/2006  NiFTI   \n",
       "4                       MPR-R; GradWarp; N3  Processed  12/13/2006  NiFTI   \n",
       "\n",
       "  Downloaded  \n",
       "0        NaN  \n",
       "1  5/30/2020  \n",
       "2        NaN  \n",
       "3        NaN  \n",
       "4        NaN  "
      ],
      "text/html": "<div>\n<style scoped>\n    .dataframe tbody tr th:only-of-type {\n        vertical-align: middle;\n    }\n\n    .dataframe tbody tr th {\n        vertical-align: top;\n    }\n\n    .dataframe thead th {\n        text-align: right;\n    }\n</style>\n<table border=\"1\" class=\"dataframe\">\n  <thead>\n    <tr style=\"text-align: right;\">\n      <th></th>\n      <th>Image Data ID</th>\n      <th>Subject</th>\n      <th>Group</th>\n      <th>Sex</th>\n      <th>Age</th>\n      <th>Visit</th>\n      <th>Modality</th>\n      <th>Description</th>\n      <th>Type</th>\n      <th>Acq Date</th>\n      <th>Format</th>\n      <th>Downloaded</th>\n    </tr>\n  </thead>\n  <tbody>\n    <tr>\n      <th>0</th>\n      <td>I60450</td>\n      <td>002_S_0619</td>\n      <td>AD</td>\n      <td>M</td>\n      <td>78</td>\n      <td>3</td>\n      <td>MRI</td>\n      <td>MPR; GradWarp; N3</td>\n      <td>Processed</td>\n      <td>12/13/2006</td>\n      <td>NiFTI</td>\n      <td>NaN</td>\n    </tr>\n    <tr>\n      <th>1</th>\n      <td>I120964</td>\n      <td>002_S_0619</td>\n      <td>AD</td>\n      <td>M</td>\n      <td>80</td>\n      <td>6</td>\n      <td>MRI</td>\n      <td>MPR; GradWarp; B1 Correction; N3; Scaled</td>\n      <td>Processed</td>\n      <td>8/13/2008</td>\n      <td>NiFTI</td>\n      <td>5/30/2020</td>\n    </tr>\n    <tr>\n      <th>2</th>\n      <td>I48617</td>\n      <td>002_S_0619</td>\n      <td>AD</td>\n      <td>M</td>\n      <td>78</td>\n      <td>1</td>\n      <td>MRI</td>\n      <td>MPR-R; GradWarp; N3; Scaled</td>\n      <td>Processed</td>\n      <td>6/01/2006</td>\n      <td>NiFTI</td>\n      <td>NaN</td>\n    </tr>\n    <tr>\n      <th>3</th>\n      <td>I48758</td>\n      <td>002_S_0619</td>\n      <td>AD</td>\n      <td>M</td>\n      <td>78</td>\n      <td>1</td>\n      <td>MRI</td>\n      <td>MPR-R; GradWarp</td>\n      <td>Processed</td>\n      <td>6/01/2006</td>\n      <td>NiFTI</td>\n      <td>NaN</td>\n    </tr>\n    <tr>\n      <th>4</th>\n      <td>I60453</td>\n      <td>002_S_0619</td>\n      <td>AD</td>\n      <td>M</td>\n      <td>78</td>\n      <td>3</td>\n      <td>MRI</td>\n      <td>MPR-R; GradWarp; N3</td>\n      <td>Processed</td>\n      <td>12/13/2006</td>\n      <td>NiFTI</td>\n      <td>NaN</td>\n    </tr>\n  </tbody>\n</table>\n</div>"
     },
     "metadata": {},
     "execution_count": 65
    }
   ],
   "source": [
    "df  = pd.read_csv(\"/home/jq/Desktop/rUnet/data/Longitudinal_AD_MRI_2_25_2021.csv\")\n",
    "df.head()"
   ]
  },
  {
   "source": [
    "#### To get those subject who have 4 different `Acq Data`"
   ],
   "cell_type": "markdown",
   "metadata": {}
  },
  {
   "cell_type": "code",
   "execution_count": 66,
   "metadata": {},
   "outputs": [
    {
     "output_type": "execute_result",
     "data": {
      "text/plain": [
       "Index(['Image Data ID', 'Subject', 'Group', 'Sex', 'Age', 'Visit', 'Modality',\n",
       "       'Description', 'Type', 'Acq Date', 'Format', 'Downloaded'],\n",
       "      dtype='object')"
      ]
     },
     "metadata": {},
     "execution_count": 66
    }
   ],
   "source": [
    "df.columns"
   ]
  },
  {
   "cell_type": "code",
   "execution_count": 67,
   "metadata": {},
   "outputs": [
    {
     "output_type": "execute_result",
     "data": {
      "text/plain": [
       "      Subject  Visit    Acq Date\n",
       "0  002_S_0619      3  12/13/2006\n",
       "1  002_S_0619      6   8/13/2008\n",
       "2  002_S_0619      1   6/01/2006\n",
       "3  002_S_0619      1   6/01/2006\n",
       "4  002_S_0619      3  12/13/2006"
      ],
      "text/html": "<div>\n<style scoped>\n    .dataframe tbody tr th:only-of-type {\n        vertical-align: middle;\n    }\n\n    .dataframe tbody tr th {\n        vertical-align: top;\n    }\n\n    .dataframe thead th {\n        text-align: right;\n    }\n</style>\n<table border=\"1\" class=\"dataframe\">\n  <thead>\n    <tr style=\"text-align: right;\">\n      <th></th>\n      <th>Subject</th>\n      <th>Visit</th>\n      <th>Acq Date</th>\n    </tr>\n  </thead>\n  <tbody>\n    <tr>\n      <th>0</th>\n      <td>002_S_0619</td>\n      <td>3</td>\n      <td>12/13/2006</td>\n    </tr>\n    <tr>\n      <th>1</th>\n      <td>002_S_0619</td>\n      <td>6</td>\n      <td>8/13/2008</td>\n    </tr>\n    <tr>\n      <th>2</th>\n      <td>002_S_0619</td>\n      <td>1</td>\n      <td>6/01/2006</td>\n    </tr>\n    <tr>\n      <th>3</th>\n      <td>002_S_0619</td>\n      <td>1</td>\n      <td>6/01/2006</td>\n    </tr>\n    <tr>\n      <th>4</th>\n      <td>002_S_0619</td>\n      <td>3</td>\n      <td>12/13/2006</td>\n    </tr>\n  </tbody>\n</table>\n</div>"
     },
     "metadata": {},
     "execution_count": 67
    }
   ],
   "source": [
    "sub_data = df.loc[:, ['Subject', 'Visit', 'Acq Date']]\n",
    "sub_data.head()"
   ]
  },
  {
   "cell_type": "code",
   "execution_count": 68,
   "metadata": {},
   "outputs": [
    {
     "output_type": "execute_result",
     "data": {
      "text/plain": [
       "112"
      ]
     },
     "metadata": {},
     "execution_count": 68
    }
   ],
   "source": [
    "sub_id_unique = pd.unique(sub_data.loc[:, 'Subject'])\n",
    "len(sub_id_unique)"
   ]
  },
  {
   "cell_type": "code",
   "execution_count": 106,
   "metadata": {
    "tags": []
   },
   "outputs": [
    {
     "output_type": "stream",
     "name": "stdout",
     "text": [
      "visit: [1, 3, 4, 6]\nvisit: [1, 3, 4, 6]\nvisit: [1, 3, 4, 6]\nvisit: [1, 3, 6]\nvisit: [1, 3, 4, 6]\nvisit: [1, 3, 4, 6]\nvisit: [1, 3, 4, 6]\nvisit: [1, 3, 4, 6]\nvisit: [1, 3, 4, 6]\nvisit: [1, 3, 4, 6]\nvisit: [1, 3, 4, 6]\nvisit: [1, 3, 4, 6]\nvisit: [1, 3, 4, 6]\nvisit: [1, 3, 4, 6]\nvisit: [6]\nvisit: [1, 3, 4, 6]\nvisit: [1, 3]\nvisit: [1, 3, 4, 6]\nvisit: [1, 3, 4, 6]\nvisit: [1, 3, 4, 6]\nsubject id num: 17\n"
     ]
    }
   ],
   "source": [
    "subject_ids = []\n",
    "\n",
    "for sub_id in sub_id_unique[:20]:\n",
    "    tmp = sub_data[sub_data['Subject'] == sub_id]\n",
    "    visit = pd.unique(tmp['Visit'])\n",
    "    print(f\"visit: {sorted(visit)}\")\n",
    "    acq_date = pd.unique(tmp['Acq Date'])\n",
    "    if len(visit) >= 4:\n",
    "        subject_ids.append(sub_id)\n",
    "\n",
    "print(f\"subject id num: {len(subject_ids)}\")"
   ]
  },
  {
   "cell_type": "code",
   "execution_count": 85,
   "metadata": {},
   "outputs": [
    {
     "output_type": "execute_result",
     "data": {
      "text/plain": [
       "3070"
      ]
     },
     "metadata": {},
     "execution_count": 85
    }
   ],
   "source": [
    "df = df[df['Subject'].isin(subject_ids)]\n",
    "len(df)"
   ]
  },
  {
   "cell_type": "code",
   "execution_count": 84,
   "metadata": {},
   "outputs": [
    {
     "output_type": "execute_result",
     "data": {
      "text/plain": [
       "Counter({'MPR; GradWarp; N3': 69,\n",
       "         'MPR; GradWarp; B1 Correction; N3; Scaled': 293,\n",
       "         'MPR-R; GradWarp; N3; Scaled': 18,\n",
       "         'MPR-R; GradWarp': 436,\n",
       "         'MPR-R; GradWarp; N3': 71,\n",
       "         'MPR; GradWarp': 439,\n",
       "         'MPR-R; GradWarp; B1 Correction': 367,\n",
       "         'MPR-R; GradWarp; N3; Scaled_2': 2,\n",
       "         'MPR; GradWarp; B1 Correction; N3': 373,\n",
       "         'MPR; GradWarp; N3; Scaled': 53,\n",
       "         'MPR; GradWarp; B1 Correction': 373,\n",
       "         'MPR-R; GradWarp; B1 Correction; N3': 367,\n",
       "         'HarP 135 final release 2015': 19,\n",
       "         'MPR-R; GradWarp; B1 Correction; N3; Scaled': 69,\n",
       "         'HHP 6 DOF AC-PC registered MPRAGE': 19,\n",
       "         'MPR; GradWarp; B1 Correction; N3; Scaled_2': 30,\n",
       "         'MPR; ; N3; Scaled': 12,\n",
       "         'MPR; ; N3': 15,\n",
       "         'MPR-R; ; N3': 15,\n",
       "         'MPR-R; GradWarp; B1 Correction; N3; Scaled_2': 5,\n",
       "         'MT1; N3m': 3,\n",
       "         'MPR; ; N3; Scaled_2': 7,\n",
       "         'MPR-R; ; N3; Scaled': 3,\n",
       "         'MPR-R; ; N3; Scaled_2': 2,\n",
       "         'MT1; GradWarp; N3m': 4,\n",
       "         'MPR; GradWarp; N3; Scaled_2': 6})"
      ]
     },
     "metadata": {},
     "execution_count": 84
    }
   ],
   "source": [
    "desc = df['Description']\n",
    "desc_counts = Counter(desc)\n",
    "desc_counts"
   ]
  },
  {
   "cell_type": "code",
   "execution_count": 103,
   "metadata": {},
   "outputs": [
    {
     "output_type": "execute_result",
     "data": {
      "text/plain": [
       "     Image Data ID     Subject Group Sex  Age  Visit Modality    Description  \\\n",
       "5          I120966  002_S_0619    AD   M   80      6      MRI  MPR; GradWarp   \n",
       "9           I60413  002_S_0619    AD   M   78      3      MRI  MPR; GradWarp   \n",
       "18          I67868  002_S_0619    AD   M   79      4      MRI  MPR; GradWarp   \n",
       "26          I60041  002_S_0938    AD   F   83      3      MRI  MPR; GradWarp   \n",
       "31          I81314  002_S_0938    AD   F   83      4      MRI  MPR; GradWarp   \n",
       "...            ...         ...   ...  ..  ...    ...      ...            ...   \n",
       "3226        I91211  137_S_0796    AD   M   82      4      MRI  MPR; GradWarp   \n",
       "3232        I89980  137_S_0796    AD   M   80      1      MRI  MPR; GradWarp   \n",
       "3239        I86262  137_S_1041    AD   M   72      4      MRI  MPR; GradWarp   \n",
       "3242        I43068  137_S_1041    AD   M   71      1      MRI  MPR; GradWarp   \n",
       "3256       I134941  137_S_1041    AD   M   73      6      MRI  MPR; GradWarp   \n",
       "\n",
       "           Type    Acq Date Format Downloaded  \n",
       "5     Processed   8/13/2008  NiFTI        NaN  \n",
       "9     Processed  12/13/2006  NiFTI        NaN  \n",
       "18    Processed   6/22/2007  NiFTI        NaN  \n",
       "26    Processed   4/12/2007  NiFTI        NaN  \n",
       "31    Processed  10/23/2007  NiFTI        NaN  \n",
       "...         ...         ...    ...        ...  \n",
       "3226  Processed  10/08/2007  NiFTI        NaN  \n",
       "3232  Processed   8/21/2006  NiFTI        NaN  \n",
       "3239  Processed  12/12/2007  NiFTI        NaN  \n",
       "3242  Processed  11/09/2006  NiFTI        NaN  \n",
       "3256  Processed  12/18/2008  NiFTI        NaN  \n",
       "\n",
       "[439 rows x 12 columns]"
      ],
      "text/html": "<div>\n<style scoped>\n    .dataframe tbody tr th:only-of-type {\n        vertical-align: middle;\n    }\n\n    .dataframe tbody tr th {\n        vertical-align: top;\n    }\n\n    .dataframe thead th {\n        text-align: right;\n    }\n</style>\n<table border=\"1\" class=\"dataframe\">\n  <thead>\n    <tr style=\"text-align: right;\">\n      <th></th>\n      <th>Image Data ID</th>\n      <th>Subject</th>\n      <th>Group</th>\n      <th>Sex</th>\n      <th>Age</th>\n      <th>Visit</th>\n      <th>Modality</th>\n      <th>Description</th>\n      <th>Type</th>\n      <th>Acq Date</th>\n      <th>Format</th>\n      <th>Downloaded</th>\n    </tr>\n  </thead>\n  <tbody>\n    <tr>\n      <th>5</th>\n      <td>I120966</td>\n      <td>002_S_0619</td>\n      <td>AD</td>\n      <td>M</td>\n      <td>80</td>\n      <td>6</td>\n      <td>MRI</td>\n      <td>MPR; GradWarp</td>\n      <td>Processed</td>\n      <td>8/13/2008</td>\n      <td>NiFTI</td>\n      <td>NaN</td>\n    </tr>\n    <tr>\n      <th>9</th>\n      <td>I60413</td>\n      <td>002_S_0619</td>\n      <td>AD</td>\n      <td>M</td>\n      <td>78</td>\n      <td>3</td>\n      <td>MRI</td>\n      <td>MPR; GradWarp</td>\n      <td>Processed</td>\n      <td>12/13/2006</td>\n      <td>NiFTI</td>\n      <td>NaN</td>\n    </tr>\n    <tr>\n      <th>18</th>\n      <td>I67868</td>\n      <td>002_S_0619</td>\n      <td>AD</td>\n      <td>M</td>\n      <td>79</td>\n      <td>4</td>\n      <td>MRI</td>\n      <td>MPR; GradWarp</td>\n      <td>Processed</td>\n      <td>6/22/2007</td>\n      <td>NiFTI</td>\n      <td>NaN</td>\n    </tr>\n    <tr>\n      <th>26</th>\n      <td>I60041</td>\n      <td>002_S_0938</td>\n      <td>AD</td>\n      <td>F</td>\n      <td>83</td>\n      <td>3</td>\n      <td>MRI</td>\n      <td>MPR; GradWarp</td>\n      <td>Processed</td>\n      <td>4/12/2007</td>\n      <td>NiFTI</td>\n      <td>NaN</td>\n    </tr>\n    <tr>\n      <th>31</th>\n      <td>I81314</td>\n      <td>002_S_0938</td>\n      <td>AD</td>\n      <td>F</td>\n      <td>83</td>\n      <td>4</td>\n      <td>MRI</td>\n      <td>MPR; GradWarp</td>\n      <td>Processed</td>\n      <td>10/23/2007</td>\n      <td>NiFTI</td>\n      <td>NaN</td>\n    </tr>\n    <tr>\n      <th>...</th>\n      <td>...</td>\n      <td>...</td>\n      <td>...</td>\n      <td>...</td>\n      <td>...</td>\n      <td>...</td>\n      <td>...</td>\n      <td>...</td>\n      <td>...</td>\n      <td>...</td>\n      <td>...</td>\n      <td>...</td>\n    </tr>\n    <tr>\n      <th>3226</th>\n      <td>I91211</td>\n      <td>137_S_0796</td>\n      <td>AD</td>\n      <td>M</td>\n      <td>82</td>\n      <td>4</td>\n      <td>MRI</td>\n      <td>MPR; GradWarp</td>\n      <td>Processed</td>\n      <td>10/08/2007</td>\n      <td>NiFTI</td>\n      <td>NaN</td>\n    </tr>\n    <tr>\n      <th>3232</th>\n      <td>I89980</td>\n      <td>137_S_0796</td>\n      <td>AD</td>\n      <td>M</td>\n      <td>80</td>\n      <td>1</td>\n      <td>MRI</td>\n      <td>MPR; GradWarp</td>\n      <td>Processed</td>\n      <td>8/21/2006</td>\n      <td>NiFTI</td>\n      <td>NaN</td>\n    </tr>\n    <tr>\n      <th>3239</th>\n      <td>I86262</td>\n      <td>137_S_1041</td>\n      <td>AD</td>\n      <td>M</td>\n      <td>72</td>\n      <td>4</td>\n      <td>MRI</td>\n      <td>MPR; GradWarp</td>\n      <td>Processed</td>\n      <td>12/12/2007</td>\n      <td>NiFTI</td>\n      <td>NaN</td>\n    </tr>\n    <tr>\n      <th>3242</th>\n      <td>I43068</td>\n      <td>137_S_1041</td>\n      <td>AD</td>\n      <td>M</td>\n      <td>71</td>\n      <td>1</td>\n      <td>MRI</td>\n      <td>MPR; GradWarp</td>\n      <td>Processed</td>\n      <td>11/09/2006</td>\n      <td>NiFTI</td>\n      <td>NaN</td>\n    </tr>\n    <tr>\n      <th>3256</th>\n      <td>I134941</td>\n      <td>137_S_1041</td>\n      <td>AD</td>\n      <td>M</td>\n      <td>73</td>\n      <td>6</td>\n      <td>MRI</td>\n      <td>MPR; GradWarp</td>\n      <td>Processed</td>\n      <td>12/18/2008</td>\n      <td>NiFTI</td>\n      <td>NaN</td>\n    </tr>\n  </tbody>\n</table>\n<p>439 rows × 12 columns</p>\n</div>"
     },
     "metadata": {},
     "execution_count": 103
    }
   ],
   "source": [
    "useful_df = df[df['Description'] == 'MPR; GradWarp']\n",
    "useful_df"
   ]
  },
  {
   "cell_type": "code",
   "execution_count": 110,
   "metadata": {},
   "outputs": [
    {
     "output_type": "stream",
     "name": "stdout",
     "text": [
      "subject id num: 88\n413\n"
     ]
    }
   ],
   "source": [
    "subjects_id = []\n",
    "for sub_id in sub_id_unique:\n",
    "    tmp = useful_df[useful_df['Subject'] == sub_id]\n",
    "    visit = pd.unique(tmp['Visit'])\n",
    "    if len(visit) >= 4:\n",
    "        subjects_id.append(sub_id)\n",
    "\n",
    "print(f\"subject id num: {len(subjects_id)}\")\n",
    "useful_df = useful_df[useful_df['Subject'].isin(subjects_id)]\n",
    "print(len(useful_df))"
   ]
  },
  {
   "cell_type": "code",
   "execution_count": 130,
   "metadata": {},
   "outputs": [
    {
     "output_type": "stream",
     "name": "stdout",
     "text": [
      "I40982\nI40982\nI40982\nI40982\n"
     ]
    }
   ],
   "source": [
    "## visit 1 3 4 6\n",
    "visit_nums = [1, 3, 4, 6]\n",
    "\n",
    "for visit_num in visit_nums:\n",
    "    visit_1 = useful_df[useful_df['Visit'] == 1]\n",
    "    for subject_id in subject_ids:\n",
    "        line = visit_1[visit_1['Subject'] == subject_id].to_numpy()[0]\n",
    "        print(line[0], end=', ')\n",
    "    print()\n",
    "    print()"
   ]
  },
  {
   "cell_type": "code",
   "execution_count": null,
   "metadata": {},
   "outputs": [],
   "source": []
  }
 ]
}